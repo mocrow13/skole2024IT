{
 "cells": [
  {
   "cell_type": "code",
   "execution_count": 16,
   "metadata": {},
   "outputs": [
    {
     "name": "stdout",
     "output_type": "stream",
     "text": [
      "Sunny 2 -1\n"
     ]
    }
   ],
   "source": [
    "import requests\n",
    "sted = input(\"Sted : \")\n",
    "\n",
    "url = f\"https://www.wttr.in/{sted}?format=j1\"\n",
    "respons = requests.get(url)\n",
    "data = respons.json()\n",
    "feelslike = data[\"current_condition\"][0][\"FeelsLikeC\"]\n",
    "vær_type = data[\"current_condition\"][0][\"weatherDesc\"][0][\"value\"]\n",
    "temperatur = data[\"current_condition\"][0][\"temp_C\"]\n",
    "print(vær_type, temperatur,feelslike)"
   ]
  },
  {
   "cell_type": "code",
   "execution_count": 18,
   "metadata": {},
   "outputs": [
    {
     "name": "stdout",
     "output_type": "stream",
     "text": [
      "['Sunny', '1']\n"
     ]
    }
   ],
   "source": [
    "def værsted(sted):\n",
    "    url = f\"https://www.wttr.in/{sted}?format=j1\"\n",
    "    respons = requests.get(url)\n",
    "    data = respons.json()\n",
    "    feelslike = data[\"current_condition\"][0][\"FeelsLikeC\"]\n",
    "    vær_type = data[\"current_condition\"][0][\"weatherDesc\"][0][\"value\"]\n",
    "    temperatur = data[\"current_condition\"][0][\"temp_C\"]\n",
    "    return [vær_type, temperatur]\n",
    "print(værsted(\"sandvika\"))"
   ]
  },
  {
   "cell_type": "code",
   "execution_count": 11,
   "metadata": {},
   "outputs": [
    {
     "name": "stdout",
     "output_type": "stream",
     "text": [
      "1\n"
     ]
    }
   ],
   "source": []
  },
  {
   "cell_type": "code",
   "execution_count": null,
   "metadata": {},
   "outputs": [],
   "source": []
  }
 ],
 "metadata": {
  "kernelspec": {
   "display_name": "Python 3",
   "language": "python",
   "name": "python3"
  },
  "language_info": {
   "codemirror_mode": {
    "name": "ipython",
    "version": 3
   },
   "file_extension": ".py",
   "mimetype": "text/x-python",
   "name": "python",
   "nbconvert_exporter": "python",
   "pygments_lexer": "ipython3",
   "version": "3.11.5"
  }
 },
 "nbformat": 4,
 "nbformat_minor": 2
}
